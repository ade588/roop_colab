{
 "cells": [
  {
   "cell_type": "markdown",
   "metadata": {
    "id": "glwNVbldZ1Id"
   },
   "source": [
    "##一张图片，一个视频\n",
    "\n",
    "[![打开](https://colab.research.google.com/assets/colab-badge.svg)](https://colab.research.google.com/github/ade588/Running/blob/main/Run.ipynb)"
   ]
  },
  {
   "cell_type": "code",
   "execution_count": null,
   "metadata": {
    "cellView": "form",
    "id": "ZqdQ95WTKCSQ"
   },
   "outputs": [],
   "source": [
    "#@title 1.克隆源代码\n",
    "!git clone https://github.com/ade588/Root.git\n",
    "!git clone https://github.com/ade588/roop_colab.git\n"
   ]
  },
  {
   "cell_type": "code",
   "execution_count": null,
   "metadata": {
    "cellView": "form",
    "id": "FnSwYDX5K1P2"
   },
   "outputs": [],
   "source": [
    "#@title 2.进入项目\n",
    "%cd /content/roop\n",
    "\n",
    "Version = \"v1.3.2\" #@param [\"v1.3.0\",\"v1.3.1\",\"v1.3.2\"]\n",
    "\n",
    "vdict = {\n",
    "    \"v1.3.0\": \"142284916a5448acdf1a7fdca56d01c5aecafdad\",\n",
    "    \"v1.3.1\": \"e0642702f388ea16089a1d4a929728fa69457d60\",\n",
    "    \"v1.3.2\": \"c2d1feb17a9c51061b52cae5897136528f3b80cc\",\n",
    "}\n",
    "\n",
    "commit=vdict.get(Version, \"Invalid Version\")\n",
    "\n",
    "vcmd= f\"checkout {commit}\"\n",
    "\n",
    "\n",
    "!git $vcmd"
   ]
  },
  {
   "cell_type": "code",
   "execution_count": null,
   "metadata": {
    "cellView": "form",
    "id": "f6urrvLGKqcU"
   },
   "outputs": [],
   "source": [
    "#@title 3.安装依赖\n",
    "#有红色警告不用担心！\n",
    "%cd /content/roop\n",
    "!pip install -r requirements.txt\n",
    "!pip install onnxruntime-gpu==1.17.0 --index-url=https://pkgs.dev.azure.com/onnxruntime/onnxruntime/_packaging/onnxruntime-cuda-12/pypi/simple\n",
    "#!pip install onnxruntime-gpu==1.15.0"
   ]
  },
  {
   "cell_type": "code",
   "execution_count": null,
   "metadata": {
    "cellView": "form",
    "id": "JXUkjpNpz2pc"
   },
   "outputs": [],
   "source": [
    "#@title 4.准备素材\n",
    "source = \"/content/roop_colab/1.jpg\" #@param {type:\"string\"}\n",
    "target = \"/content/roop_colab/2.mp4\" #@param {type:\"string\"}\n",
    "output = \"/content/roop_colab/out.mp4\" #@param {type:\"string\"}"
   ]
  },
  {
   "cell_type": "markdown",
   "metadata": {
    "id": "vW_Ovjjq8Qv8"
   },
   "source": [
    "source : 源素素材路径，包含脸的图片  \n",
    "\n",
    "target : 目标图片或者视频路径，也要包含脸  \n",
    "\n",
    "output : 输出路径，如果targe是图片，这里也改成图片后缀  \n"
   ]
  },
  {
   "cell_type": "code",
   "execution_count": null,
   "metadata": {
    "cellView": "form",
    "id": "cMJi9bI3LUyX"
   },
   "outputs": [],
   "source": [
    "#@title 5.开始\n",
    "\n",
    "%cd /content/roop\n",
    "\n",
    "Device = \"cuda\" #@param [\"cuda\", \"cpu\"]\n",
    "\n",
    "Processor = \"face_swapper face_enhancer\" #@param [\"face_swapper face_enhancer\", \"face_swapper\",\"face_enhancer\"]\n",
    "\n",
    "VideoEncoder = \"libx264\" #@param ['libx264', 'libx265', 'libvpx-vp9', 'h264_nvenc', 'hevc_nvenc']\n",
    "\n",
    "VideoQuality = \"35\" #@param {type:\"string\"}\n",
    "\n",
    "TempFormat = \"jpg\" #@param [\"jpg\", \"png\"]\n",
    "\n",
    "TempQuality = \"0\" #@param {type:\"string\"}\n",
    "\n",
    "\n",
    "KeepFPS = True #@param {type:\"boolean\"}\n",
    "SkipAudio = False #@param {type:\"boolean\"}\n",
    "KeepFrames = False #@param {type:\"boolean\"}\n",
    "ManyFaces = False #@param {type:\"boolean\"}\n",
    "\n",
    "\n",
    "KeepFPS =\"--keep-fps\" if KeepFPS==True else \"\"\n",
    "SkipAudio =\"--skip-audio\" if SkipAudio==True else \"\"\n",
    "KeepFrames =\"--keep-frames\" if KeepFrames==True else \"\"\n",
    "ManyFaces =\"--many-faces\" if ManyFaces==True else \"\"\n",
    "\n",
    "\n",
    "\n",
    "cmd = f\"run.py --execution-provider {Device} -s {source} -t {target} -o {output} --frame-processor {Processor} --output-video-encoder {VideoEncoder} --output-video-quality {VideoQuality} {KeepFPS} {SkipAudio} {KeepFrames} {ManyFaces} --temp-frame-format {TempFormat} --temp-frame-quality {TempQuality}\"\n",
    "print(\"cmd:\"+cmd)\n",
    "\n",
    "\n",
    "!wget https://github.com/dream80/roop_colab/releases/download/v0.0.1/inswapper_128.onnx\n",
    "!mkdir models\n",
    "!mv inswapper_128.onnx models/\n",
    "\n",
    "!wget https://github.com/TencentARC/GFPGAN/releases/download/v1.3.4/GFPGANv1.4.pth\n",
    "!mv GFPGANv1.4.pth models/\n",
    "\n",
    "!python $cmd\n"
   ]
  },
  {
   "cell_type": "markdown",
   "metadata": {
    "id": "iOOzIywkxw9o"
   },
   "source": [
    "Device : 选CUDA就是使用GPU，选CPU就用CPU，如果你GPU配额用完了，可以用CPU顶一下。或者开Pro  \n",
    "\n",
    "Precessor : 选择脸还是脸修复，默认全部启用，也可以单独使用一个功能。  \n",
    "\n",
    "VideoEncoder : 视频编码器选择，一般用libx264。  \n",
    "\n",
    "VideoQuality : 视频质量，默认35，取值范围0-100  \n",
    "\n",
    "TempFormat ： 缓存帧格式，可以使jpg或者png  \n",
    "\n",
    "TempQuality ： 视频质量，默认0，取值范围0-100  \n",
    "\n",
    "KeepFPS : 保持帧率不变  \n",
    "\n",
    "SkipAudio ： 丢弃音轨   \n",
    "\n",
    "KeepFrames ： 保留分帧后的图片  \n",
    "\n",
    "ManyFaces ： 替换所有脸"
   ]
  },
  {
   "cell_type": "markdown",
   "metadata": {
    "id": "O8qkUHNNw8-z"
   },
   "source": [
    "\n",
    "## 视频文件在哪里？  \n",
    "\n",
    "成功后的视频保存在roop_colab文件里面  \n"
   ]
  },
  {
   "cell_type": "markdown",
   "metadata": {
    "id": "klzSfQPfwSNV"
   },
   "source": [
    "\n",
    "## 大文件处理\n",
    "\n",
    "如果文件比较大，直接在Colab上传会有难度，可以先传到谷歌云盘。然后挂载云盘就可以了，修改一下第五步里面图片和视频的地址就可以了。挂载谷歌盘之后也可以把输出文件直接指向云盘。\n",
    "\n",
    "如何需要使用谷歌云盘的文件，可以点击这个脚本，挂载云盘。\n",
    "\n",
    "from google.colab import drive  \n",
    "drive.mount('/content/drive')"
   ]
  }
 ],
 "metadata": {
  "accelerator": "GPU",
  "colab": {
   "authorship_tag": "ABX9TyPRDnVquohvsSsgBLv7amO+",
   "collapsed_sections": [
    "klzSfQPfwSNV"
   ],
   "gpuType": "T4",
   "include_colab_link": true,
   "machine_shape": "hm",
   "provenance": []
  },
  "kernelspec": {
   "display_name": "Python 3",
   "name": "python3"
  },
  "language_info": {
   "name": "python"
  }
 },
 "nbformat": 4,
 "nbformat_minor": 0
}
